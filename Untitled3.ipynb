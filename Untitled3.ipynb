{
 "cells": [
  {
   "cell_type": "code",
   "execution_count": 1,
   "metadata": {},
   "outputs": [
    {
     "ame": "stdout",
     "output_type": "stream",
     "text": [
      "Enter elements3 4 5 6 \n",
      "3 4 5 6 \n"
     ]
    }
   ],
   "source": [
    "n=input('Enter elements')\n",
    "print(n)"
   ]
  },
  {
   "cell_type": "code",
   "execution_count": 2,
   "metadata": {},
   "outputs": [
    {
     "name": "stdout",
     "output_type": "stream",
     "text": [
      "['3', '4', '5', '6']\n"
     ]
    }
   ],
   "source": [
    "a=n.split()\n",
    "print(a)"
   ]
  },
  {
   "cell_type": "code",
   "execution_count": 14,
   "metadata": {},
   "outputs": [
    {
     "name": "stdout",
     "output_type": "stream",
     "text": [
      "5\n",
      "6\n",
      "11\n",
      "12\n",
      "13\n"
     ]
    }
   ],
   "source": [
    "# Python program for implementation of Insertion Sort \n",
    "\n",
    "# Function to do insertion sort \n",
    "def insertionSort(arr): \n",
    "\n",
    "\t# Traverse through 1 to len(arr) \n",
    "\tfor i in range(1, len(arr)): \n",
    "\n",
    "\t\tkey = arr[i] \n",
    "\n",
    "\t\t# Move elements of arr[0..i-1], that are \n",
    "\t\t# greater than key, to one position ahead \n",
    "\t\t# of their current position \n",
    "\t\tj = i-1\n",
    "\t\twhile j >=0 and key < arr[j] : \n",
    "\t\t\t\tarr[j+1] = arr[j] \n",
    "\t\t\t\tj -= 1\n",
    "\t\tarr[j+1] = key \n",
    "\n",
    "\n",
    "# Driver code to test above \n",
    "arr = [12, 11, 13, 5, 6] \n",
    "insertionSort(arr) \n",
    "for x in range(len(arr)): \n",
    "\tprint (arr[x]) \n",
    "\n",
    "# This code is contributed by Mohit Kumra \n"
   ]
  },
  {
   "cell_type": "code",
   "execution_count": 16,
   "metadata": {},
   "outputs": [
    {
     "name": "stdout",
     "output_type": "stream",
     "text": [
      "Enter elements:4 5 3 5  6 4 70 3 7 4 \n",
      "['4', '5', '3', '5', '6', '4', '70', '3', '7', '4']\n",
      "3\n",
      "3\n",
      "4\n",
      "4\n",
      "4\n",
      "5\n",
      "5\n",
      "6\n",
      "7\n",
      "70\n"
     ]
    }
   ],
   "source": [
    "def insertion(arr):\n",
    "    for i in range (1,len(arr)):\n",
    "        key=arr[i]\n",
    "        j=i-1\n",
    "        while(j>=0 and key < arr[j]):\n",
    "            arr[j+1] = arr[j]\n",
    "            j=j-1\n",
    "        arr[j+1]=key\n",
    "n=input(\"Enter elements:\")\n",
    "arr = n.split()\n",
    "print(arr)\n",
    "insertion(arr) \n",
    "for i in range(len(arr)): \n",
    "\tprint (arr[i]) "
   ]
  },
  {
   "cell_type": "code",
   "execution_count": 20,
   "metadata": {},
   "outputs": [
    {
     "name": "stdout",
     "output_type": "stream",
     "text": [
      "Geeks :  1, Portal :  5.33\n",
      "Total students :  240, Boys :  120\n",
      "    031\n",
      " 3.561E+02\n"
     ]
    }
   ],
   "source": [
    "# Python program showing how to use \n",
    "# string modulo operator(%) to print \n",
    "# fancier output \n",
    "\n",
    "# print integer and float value \n",
    "print(\"Geeks : % 2d, Portal : % 5.2f\" %(1, 05.333)) \n",
    "\n",
    "# print integer value \n",
    "print(\"Total students : % 3d, Boys : % 2d\" %(240, 120)) \n",
    "\n",
    "# print octal value \n",
    "print(\"% 7.3o\"% (25)) \n",
    "\n",
    "# print exponential value \n",
    "print(\"% 10.3E\"% (356.08977)) \n"
   ]
  },
  {
   "cell_type": "code",
   "execution_count": null,
   "metadata": {},
   "outputs": [],
   "source": []
  },
  {
   "cell_type": "code",
   "execution_count": null,
   "metadata": {},
   "outputs": [],
   "source": []
  }
 ],
 "metadata": {
  "kernelspec": {
   "display_name": "Python 3",
   "language": "python",
   "name": "python3"
  },
  "language_info": {
   "codemirror_mode": {
    "name": "ipython",
    "version": 3
   },
   "file_extension": ".py",
   "mimetype": "text/x-python",
   "name": "python",
   "nbconvert_exporter": "python",
   "pygments_lexer": "ipython3",
   "version": "3.6.5"
  }
 },
 "nbformat": 4,
 "nbformat_minor": 2
}
